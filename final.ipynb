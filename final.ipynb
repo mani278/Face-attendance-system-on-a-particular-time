{
 "cells": [
  {
   "cell_type": "code",
   "execution_count": 1,
   "id": "05c5ee43",
   "metadata": {},
   "outputs": [],
   "source": [
    "import csv\n",
    "import time\n",
    "import os\n",
    "import cv2\n",
    "import face_recognition\n",
    "import numpy as np\n",
    "import time\n",
    "import datetime"
   ]
  },
  {
   "cell_type": "code",
   "execution_count": 2,
   "id": "8c1770be",
   "metadata": {},
   "outputs": [
    {
     "data": {
      "text/plain": [
       "16"
      ]
     },
     "execution_count": 2,
     "metadata": {},
     "output_type": "execute_result"
    }
   ],
   "source": [
    "day = time.strftime(\"%d-%b-%Y\")\n",
    "f = open(day+'.csv','w+',newline='')\n",
    "write = csv.writer(f)\n",
    "write.writerow(['S.No','NAME','TIME'])"
   ]
  },
  {
   "cell_type": "code",
   "execution_count": 3,
   "id": "aea52fcd",
   "metadata": {},
   "outputs": [],
   "source": [
    "attendance = []\n",
    "idd = 1"
   ]
  },
  {
   "cell_type": "code",
   "execution_count": 4,
   "id": "4de088c3",
   "metadata": {},
   "outputs": [],
   "source": [
    "def resize(img, size) :\n",
    "    width = int(img.shape[1]*size)\n",
    "    height = int(img.shape[0] * size)\n",
    "    dimension = (width, height)\n",
    "    return cv2.resize(img, dimension, interpolation= cv2.INTER_AREA)"
   ]
  },
  {
   "cell_type": "code",
   "execution_count": 5,
   "id": "f9937971",
   "metadata": {},
   "outputs": [],
   "source": [
    "path = 'data'\n",
    "stdImg = []\n",
    "stdName = []"
   ]
  },
  {
   "cell_type": "code",
   "execution_count": 6,
   "id": "fe143a96",
   "metadata": {},
   "outputs": [],
   "source": [
    "myList = os.listdir(path)\n",
    "for cl in myList :\n",
    "    curimg = cv2.imread(f'{path}/{cl}')\n",
    "    stdImg.append(curimg)\n",
    "    stdName.append(os.path.splitext(cl)[0])"
   ]
  },
  {
   "cell_type": "code",
   "execution_count": 7,
   "id": "83521c06",
   "metadata": {},
   "outputs": [
    {
     "name": "stdout",
     "output_type": "stream",
     "text": [
      "Student name ['AJITH', 'ELON MUSK', 'MANI', 'MUKESH AMBANI', 'VIJAY']\n"
     ]
    }
   ],
   "source": [
    "studentName = [name.upper() for name in stdName]\n",
    "stname = studentName.copy()\n",
    "print('Student name',studentName)"
   ]
  },
  {
   "cell_type": "code",
   "execution_count": 8,
   "id": "2816f915",
   "metadata": {},
   "outputs": [],
   "source": [
    "def findEncoding(images) :\n",
    "    imgEncodings = []\n",
    "    for img in images :\n",
    "        img = resize(img, 0.50)\n",
    "        img = cv2.cvtColor(img, cv2.COLOR_BGR2RGB)\n",
    "        encodeimg = face_recognition.face_encodings(img)[0]\n",
    "        imgEncodings.append(encodeimg)\n",
    "    return imgEncodings"
   ]
  },
  {
   "cell_type": "code",
   "execution_count": 9,
   "id": "511a96f8",
   "metadata": {},
   "outputs": [],
   "source": [
    "import face_recognition\n",
    "\n",
    "EncodeList = findEncoding(stdImg)"
   ]
  },
  {
   "cell_type": "code",
   "execution_count": 10,
   "id": "8aecb1e1",
   "metadata": {},
   "outputs": [],
   "source": [
    "cam = 0  # Use 0 or the correct port num for accessing camera ,use string for accessing a image"
   ]
  },
  {
   "cell_type": "code",
   "execution_count": 11,
   "id": "a29f5619",
   "metadata": {},
   "outputs": [
    {
     "name": "stdout",
     "output_type": "stream",
     "text": [
      "Taking Snap\n",
      "Attendance Registered for MANI at 07:26:30 PM\n"
     ]
    }
   ],
   "source": [
    "while True: \n",
    "    e = datetime.datetime.now()\n",
    "    \n",
    "    hour = e.hour\n",
    "    minute = e.minute\n",
    "    #print(hour, minute)\n",
    "    \n",
    "    if hour == 19 and minute == 26 and cam == 0:\n",
    "        print('Taking Snap')\n",
    "        cap = cv2.VideoCapture(0)\n",
    "        result, image = cap.read()\n",
    "        if result:\n",
    "            cv2.imwrite(\"img.jpg\", image)\n",
    "            img = cv2.imread('img.jpg')\n",
    "            cap.release()\n",
    "            break\n",
    "    else:\n",
    "        img = cv2.imread('vijay_ajith.jpg')\n",
    "        break\n",
    "\n",
    "\n",
    "\n",
    "Smaller_frames = cv2.resize(img, (0,0), None, 0.25, 0.25)\n",
    "facesInFrame = face_recognition.face_locations(Smaller_frames)\n",
    "encodeFacesInFrame = face_recognition.face_encodings(Smaller_frames, facesInFrame)\n",
    "\n",
    "for encodeFace, faceloc in zip(encodeFacesInFrame, facesInFrame):\n",
    "    #print('for')\n",
    "    matches = face_recognition.compare_faces(EncodeList, encodeFace)\n",
    "    facedis = face_recognition.face_distance(EncodeList, encodeFace)\n",
    "    matchIndex = np.argmin(facedis)\n",
    "\n",
    "    if matches[matchIndex] :\n",
    "        #print('if')\n",
    "        name = studentName[matchIndex].upper()\n",
    "        y1, x2, y2, x1 = faceloc\n",
    "        y1, x2, y2, x1 = y1*4, x2*4, y2*4, x1*4\n",
    "        cv2.rectangle(img, (x1, y1), (x2, y2), (0, 255, 0), 3)\n",
    "        cv2.rectangle(img, (x1, y2-25), (x2, y2), (0, 255, 0), cv2.FILLED)\n",
    "        cv2.putText(img, name, (x1+6, y2-6), cv2.FONT_HERSHEY_COMPLEX, 1, (255, 255, 255), 2)\n",
    "        \n",
    "        attendance.append(name)\n",
    "        #print(\"nameList\",nameList)\n",
    "        if name in studentName:\n",
    "            #print(\"name\",name)\n",
    "            if name in stname:\n",
    "                #print('at')\n",
    "                stname.remove(name)\n",
    "                time_now = time.strftime(\"%I:%M:%S %p\")\n",
    "                write.writerow([idd,name,time_now])\n",
    "                print('Attendance Registered for',name, 'at',time_now)\n",
    "                idd += 1\n",
    "    \n",
    "\n",
    "cv2.imshow('img',img)\n",
    "cv2.waitKey(0)\n",
    "cv2.destroyAllWindows()\n",
    "f.close()"
   ]
  },
  {
   "cell_type": "code",
   "execution_count": null,
   "id": "6edc5edb",
   "metadata": {},
   "outputs": [],
   "source": []
  }
 ],
 "metadata": {
  "kernelspec": {
   "display_name": "Python 3 (ipykernel)",
   "language": "python",
   "name": "python3"
  },
  "language_info": {
   "codemirror_mode": {
    "name": "ipython",
    "version": 3
   },
   "file_extension": ".py",
   "mimetype": "text/x-python",
   "name": "python",
   "nbconvert_exporter": "python",
   "pygments_lexer": "ipython3",
   "version": "3.9.13"
  }
 },
 "nbformat": 4,
 "nbformat_minor": 5
}
